{
 "cells": [
  {
   "cell_type": "markdown",
   "metadata": {},
   "source": [
    "<h1> <center> Building Dataset </center> </h1>"
   ]
  },
  {
   "cell_type": "markdown",
   "metadata": {},
   "source": [
    "### I. Importing Libraries"
   ]
  },
  {
   "cell_type": "code",
   "execution_count": 46,
   "metadata": {},
   "outputs": [],
   "source": [
    "# Standard Libraries\n",
    "import numpy as np\n",
    "import pandas as pd \n",
    "import random\n",
    "import sympy\n",
    "import matplotlib.pyplot as plt\n",
    "from scipy.optimize import newton\n",
    "from scipy.stats import norm, anglit, maxwell\n",
    "\n",
    "# Less Standard Libraries\n",
    "import nbimporter\n",
    "from tqdm import tqdm\n",
    "\n",
    "# My Functions\n",
    "from Functions import RMA_newton\n",
    "from Functions import strain_linear, B20_strain_linear\n",
    "from Functions import sin_strain, sin_decay0_strain, sin_decay1_strain, sin_decay2_strain, sin_decay3_strain\n",
    "from Functions import prob_strain\n",
    "from Functions import strain_generator"
   ]
  },
  {
   "cell_type": "markdown",
   "metadata": {},
   "source": [
    "### II. Linear Strain and B20 Linear Strain"
   ]
  },
  {
   "cell_type": "code",
   "execution_count": 47,
   "metadata": {},
   "outputs": [],
   "source": [
    "# Creating Linear Strains\n",
    "all_strains=[]\n",
    "all_strains+=strain_generator(300,100,lambda N : strain_linear(N))\n",
    "# Creating and Re-Scaling Strains\n",
    "B20_strains=strain_generator(300,100,lambda N : B20_strain_linear(N))\n",
    "list_B20=[]\n",
    "for el in B20_strains:\n",
    "    list_B20.append(el)\n",
    "    list_B20+=[random.uniform(0,0.20)*el for i in range(4)]\n",
    "all_strains+=list_B20"
   ]
  },
  {
   "cell_type": "markdown",
   "metadata": {},
   "source": [
    "* **100 Linear Strains**\n",
    "* **500 B20 Linear Strains**"
   ]
  },
  {
   "cell_type": "markdown",
   "metadata": {},
   "source": [
    "### III. Sinus Strains"
   ]
  },
  {
   "cell_type": "code",
   "execution_count": 48,
   "metadata": {},
   "outputs": [],
   "source": [
    "sin_strains=strain_generator(300,15,lambda N : sin_strain(N))\n",
    "list_sin=[]\n",
    "for el in sin_strains:\n",
    "    list_sin.append(el)\n",
    "    list_sin+=[random.uniform(0,0.20)*el for i in range(4)]\n",
    "all_strains+=list_sin"
   ]
  },
  {
   "cell_type": "code",
   "execution_count": 49,
   "metadata": {},
   "outputs": [],
   "source": [
    "sin0_strains=strain_generator(300,15,lambda N : sin_decay0_strain(N))\n",
    "list_sin0=[]\n",
    "for el in sin0_strains:\n",
    "    list_sin0.append(el)\n",
    "    list_sin0+=[random.uniform(0,0.20)*el for i in range(4)]\n",
    "all_strains+=list_sin0"
   ]
  },
  {
   "cell_type": "code",
   "execution_count": 50,
   "metadata": {},
   "outputs": [],
   "source": [
    "sin1_strains=strain_generator(300,15,lambda N : sin_decay1_strain(N))\n",
    "list_sin1=[]\n",
    "for el in sin1_strains:\n",
    "    list_sin1.append(el)\n",
    "    list_sin1+=[random.uniform(0,0.20)*el for i in range(4)]\n",
    "all_strains+=list_sin1"
   ]
  },
  {
   "cell_type": "code",
   "execution_count": 51,
   "metadata": {},
   "outputs": [],
   "source": [
    "sin2_strains=strain_generator(300,15,lambda N : sin_decay2_strain(N))\n",
    "list_sin2=[]\n",
    "for el in sin2_strains:\n",
    "    list_sin2.append(el)\n",
    "    list_sin2+=[random.uniform(0,0.20)*el for i in range(4)]\n",
    "all_strains+=list_sin2"
   ]
  },
  {
   "cell_type": "code",
   "execution_count": 52,
   "metadata": {},
   "outputs": [],
   "source": [
    "sin3_strains=strain_generator(300,15,lambda N : sin_decay3_strain(N))\n",
    "list_sin3=[]\n",
    "for el in sin3_strains:\n",
    "    list_sin3.append(el)\n",
    "    list_sin3+=[random.uniform(0,0.20)*el for i in range(4)]\n",
    "all_strains+=list_sin3"
   ]
  },
  {
   "cell_type": "markdown",
   "metadata": {},
   "source": [
    "* **75 by category of Sin Strains, total of 375**"
   ]
  },
  {
   "cell_type": "markdown",
   "metadata": {},
   "source": [
    "### III. Probability Strains"
   ]
  },
  {
   "cell_type": "code",
   "execution_count": 53,
   "metadata": {},
   "outputs": [],
   "source": [
    "norm_strains    = strain_generator(301,50,lambda N : prob_strain(N,\"norm\"))\n",
    "anglit_strains  = strain_generator(301,50,lambda N : prob_strain(N,\"anglit\"))\n",
    "maxwell_strains = strain_generator(301,50,lambda N : prob_strain(N,\"maxwell\"))\n",
    "all_strains += norm_strains\n",
    "all_strains += anglit_strains\n",
    "all_strains += maxwell_strains"
   ]
  },
  {
   "cell_type": "markdown",
   "metadata": {},
   "source": [
    "### IV. Corresponding Stress"
   ]
  },
  {
   "cell_type": "code",
   "execution_count": 65,
   "metadata": {},
   "outputs": [],
   "source": [
    "E = 200000\n",
    "b = 0.001\n",
    "A = 1000\n",
    "a = 0.2\n",
    "\n",
    "all_stress=[]\n",
    "for el in all_strains:\n",
    "    rma=RMA_newton(el)\n",
    "    rma.activate(E,A,b,a)\n",
    "    all_stress.append(np.array(rma.stress).reshape((1,301)))"
   ]
  },
  {
   "cell_type": "code",
   "execution_count": 56,
   "metadata": {},
   "outputs": [],
   "source": [
    "all_strain=[el.reshape((1,301)) for el in all_strains]"
   ]
  },
  {
   "cell_type": "code",
   "execution_count": 60,
   "metadata": {},
   "outputs": [],
   "source": [
    "strain=np.concatenate(all_strain,axis=0)"
   ]
  },
  {
   "cell_type": "code",
   "execution_count": 66,
   "metadata": {},
   "outputs": [],
   "source": [
    "stress=np.concatenate(all_stress,axis=0)"
   ]
  },
  {
   "cell_type": "code",
   "execution_count": 67,
   "metadata": {},
   "outputs": [
    {
     "data": {
      "text/plain": [
       "(1125, 301)"
      ]
     },
     "execution_count": 67,
     "metadata": {},
     "output_type": "execute_result"
    }
   ],
   "source": [
    "stress.shape"
   ]
  },
  {
   "cell_type": "code",
   "execution_count": 68,
   "metadata": {},
   "outputs": [
    {
     "data": {
      "text/plain": [
       "900.0"
      ]
     },
     "execution_count": 68,
     "metadata": {},
     "output_type": "execute_result"
    }
   ],
   "source": [
    "1125*0.8 #excellent : 80% du dataset en training 20% en test"
   ]
  },
  {
   "cell_type": "markdown",
   "metadata": {},
   "source": [
    "### V. Breakdown into Training and test"
   ]
  },
  {
   "cell_type": "code",
   "execution_count": 69,
   "metadata": {},
   "outputs": [
    {
     "data": {
      "text/plain": [
       "1125"
      ]
     },
     "execution_count": 69,
     "metadata": {},
     "output_type": "execute_result"
    }
   ],
   "source": [
    "# 100\n",
    "# 500\n",
    "# 75 * 5\n",
    "# 50 * 3\n",
    "100+500+75*5+50*3"
   ]
  },
  {
   "cell_type": "code",
   "execution_count": 96,
   "metadata": {},
   "outputs": [],
   "source": [
    "ind1=np.random.choice(100, 80, replace=False)\n",
    "ind2=np.random.choice(500, 400, replace=False)+100\n",
    "ind3=np.random.choice(75, int(0.8*75), replace=False)+600\n",
    "ind4=np.random.choice(75, int(0.8*75), replace=False)+675\n",
    "ind5=np.random.choice(75, int(0.8*75), replace=False)+750\n",
    "ind6=np.random.choice(75, int(0.8*75), replace=False)+825\n",
    "ind7=np.random.choice(75, int(0.8*75), replace=False)+900\n",
    "ind8=np.random.choice(50, int(0.8*50), replace=False)+975\n",
    "ind9=np.random.choice(50, int(0.8*50), replace=False)+1025\n",
    "ind10=np.random.choice(50, int(0.8*50), replace=False)+1075\n",
    "ind_train = list(np.concatenate([ind1,ind2,ind3,ind4,ind5,ind6,ind7,ind8,ind9,ind10]))\n",
    "ind_test  = [w for w in range(1125) if (w not in ind_train)]"
   ]
  },
  {
   "cell_type": "code",
   "execution_count": 105,
   "metadata": {},
   "outputs": [],
   "source": [
    "train_strain = strain[ind_train,:]\n",
    "train_stress = stress[ind_train,:]\n",
    "test_strain  = strain[ind_test,:]\n",
    "test_stress  = stress[ind_test,:]"
   ]
  },
  {
   "cell_type": "code",
   "execution_count": 106,
   "metadata": {},
   "outputs": [
    {
     "data": {
      "text/plain": [
       "(900, 301)"
      ]
     },
     "execution_count": 106,
     "metadata": {},
     "output_type": "execute_result"
    }
   ],
   "source": [
    "train_strain.shape"
   ]
  },
  {
   "cell_type": "code",
   "execution_count": 107,
   "metadata": {},
   "outputs": [
    {
     "data": {
      "text/plain": [
       "(900, 301)"
      ]
     },
     "execution_count": 107,
     "metadata": {},
     "output_type": "execute_result"
    }
   ],
   "source": [
    "train_stress.shape"
   ]
  },
  {
   "cell_type": "code",
   "execution_count": 108,
   "metadata": {},
   "outputs": [
    {
     "data": {
      "text/plain": [
       "(225, 301)"
      ]
     },
     "execution_count": 108,
     "metadata": {},
     "output_type": "execute_result"
    }
   ],
   "source": [
    "test_strain.shape"
   ]
  },
  {
   "cell_type": "code",
   "execution_count": 109,
   "metadata": {},
   "outputs": [
    {
     "data": {
      "text/plain": [
       "(225, 301)"
      ]
     },
     "execution_count": 109,
     "metadata": {},
     "output_type": "execute_result"
    }
   ],
   "source": [
    "test_stress.shape"
   ]
  },
  {
   "cell_type": "markdown",
   "metadata": {},
   "source": [
    "### VI. Saving To File"
   ]
  },
  {
   "cell_type": "code",
   "execution_count": 111,
   "metadata": {},
   "outputs": [],
   "source": [
    "np.save(\"train_strain.npy\",train_strain)\n",
    "np.save(\"train_stress.npy\",train_stress)\n",
    "np.save(\"test_strain.npy\",test_strain)\n",
    "np.save(\"test_stress.npy\",test_stress)"
   ]
  }
 ],
 "metadata": {
  "kernelspec": {
   "display_name": "Python 3",
   "language": "python",
   "name": "python3"
  },
  "language_info": {
   "codemirror_mode": {
    "name": "ipython",
    "version": 3
   },
   "file_extension": ".py",
   "mimetype": "text/x-python",
   "name": "python",
   "nbconvert_exporter": "python",
   "pygments_lexer": "ipython3",
   "version": "3.6.4"
  }
 },
 "nbformat": 4,
 "nbformat_minor": 2
}
