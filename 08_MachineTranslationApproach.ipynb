{
 "cells": [
  {
   "cell_type": "markdown",
   "metadata": {},
   "source": [
    "<center> <h1> Machine Translation Idea Approach"
   ]
  },
  {
   "cell_type": "markdown",
   "metadata": {},
   "source": [
    "### Libraries"
   ]
  },
  {
   "cell_type": "code",
   "execution_count": 1,
   "metadata": {},
   "outputs": [],
   "source": [
    "import numpy as np\n",
    "import matplotlib.pyplot as plt\n",
    "import tensorflow as tf"
   ]
  },
  {
   "cell_type": "markdown",
   "metadata": {},
   "source": [
    "We know that the strain has values which are between $[-0.2,0.2]$ and the stress has values between $[-1400,1400]$ (approx.). Neural Machine Translation has been a hot topic for the past few years and many different architectures have been implemented to operate translations between different languages. Our idea here is to apply these concepts to two \"new\" languages : strain and stress. In order to perform such a task, we need the following :\n",
    "* functions to discretize the span of values for both strain and stress : **values to \"words\"**\n",
    "* functions to go from **\"words\" to values**\n",
    "* functions to measure the **loss** after a two step conversion : value $\\rightarrow$ word $\\rightarrow$ value\n",
    "* functions to plot results into a **grid** once space was discretized  \n",
    "\n",
    "The above will be put in a class called **CONVERTER**  \n",
    "\n",
    "The next part involves **generating a very large dataset of sentences**. To perform this task, we will use the different types of strains we previously created, we will build new types of strains and use the ARMA strains which are easily generated. We really need to think about the size of the vocabulary to estimate the number of sentences we need to train the model. Note that the size of the vocabulary is linked to the precision of our conversion.  \n",
    "\n",
    "Finally, we will train a sequence-2-sequence model using **tensorflow** : https://www.tensorflow.org/tutorials/seq2seq"
   ]
  },
  {
   "cell_type": "markdown",
   "metadata": {},
   "source": [
    "### I. Converter Class : Generic Basic Class"
   ]
  },
  {
   "cell_type": "code",
   "execution_count": 2,
   "metadata": {},
   "outputs": [],
   "source": [
    "class converter:\n",
    "    def __init__(self,min_value,max_value,size_vocab):\n",
    "        self.eps=10**(-10)\n",
    "        self.min_value=min_value\n",
    "        self.max_value=max_value\n",
    "        self.size_vocab=size_vocab\n",
    "        self.bins=np.linspace(min_value-self.eps,max_value+self.eps,size_vocab+1)\n",
    "        self.vocab = list(range(size_vocab))\n",
    "    \n",
    "    def to_words(self,array):\n",
    "        return np.digitize(array,self.bins)\n",
    "    \n",
    "    def to_values(self,array):\n",
    "        f = lambda t: (self.bins[t-1]+self.bins[t])/2\n",
    "        f = np.vectorize(f)\n",
    "        return f(array)\n",
    "    \n",
    "    def info(self):\n",
    "        print('Min Value:',self.min_value)\n",
    "        print('Max Value:',self.max_value)\n",
    "        print('Correction term:',self.eps)\n",
    "        print('Dictionary/Vocabulary size:',self.size_vocab)\n",
    "        a=np.random.random(1000)\n",
    "        a=0.2*a/np.max(a)\n",
    "        noise=abs(self.to_values(self.to_words(a))-a)\n",
    "        print('Average error in conversion given 1000 random values:',noise.mean())"
   ]
  },
  {
   "cell_type": "markdown",
   "metadata": {},
   "source": [
    "#### Example :"
   ]
  },
  {
   "cell_type": "code",
   "execution_count": 3,
   "metadata": {},
   "outputs": [
    {
     "name": "stdout",
     "output_type": "stream",
     "text": [
      "Example - Each line is a ten observation strain :\n",
      "\n",
      "[[ 0.13  0.07  0.19  0.02  0.2   0.15  0.05 -0.04 -0.07  0.15]\n",
      " [ 0.1   0.17  0.05  0.03  0.16 -0.05  0.05  0.14  0.18 -0.11]\n",
      " [-0.09  0.01  0.03 -0.12  0.06  0.17 -0.1  -0.06 -0.16 -0.14]\n",
      " [ 0.05 -0.18 -0.04  0.06  0.11  0.18 -0.1   0.04 -0.09  0.02]\n",
      " [-0.12 -0.06 -0.05 -0.14 -0.2  -0.02 -0.03 -0.03 -0.07  0.11]\n",
      " [-0.11  0.18  0.12  0.    0.11 -0.19  0.15 -0.   -0.14  0.07]\n",
      " [ 0.1  -0.17 -0.12  0.13  0.08 -0.1   0.13  0.09 -0.1  -0.2 ]\n",
      " [ 0.12  0.01 -0.14  0.09  0.09 -0.12  0.16  0.09  0.11  0.17]\n",
      " [ 0.    0.08  0.02  0.13  0.12 -0.09 -0.18  0.08  0.01 -0.16]\n",
      " [ 0.18  0.01 -0.18 -0.01  0.17  0.16 -0.02 -0.14  0.03 -0.18]]\n"
     ]
    }
   ],
   "source": [
    "import random\n",
    "test = np.array([[random.uniform(-0.2,0.2) for i in range(10)] for j in range(10)])\n",
    "print('Example - Each line is a ten observation strain :')\n",
    "print('')\n",
    "print(np.round(test,decimals=2))"
   ]
  },
  {
   "cell_type": "code",
   "execution_count": 4,
   "metadata": {},
   "outputs": [
    {
     "name": "stdout",
     "output_type": "stream",
     "text": [
      "Min Value: -0.2\n",
      "Max Value: 0.2\n",
      "Correction term: 1e-10\n",
      "Dictionary/Vocabulary size: 10\n",
      "Average error in conversion given 1000 random values: 0.010341281310379842\n"
     ]
    }
   ],
   "source": [
    "convert=converter(-0.2,0.2,10)\n",
    "convert.info()"
   ]
  },
  {
   "cell_type": "code",
   "execution_count": 5,
   "metadata": {},
   "outputs": [
    {
     "name": "stdout",
     "output_type": "stream",
     "text": [
      "Each line is now a sentence with its words :\n",
      "\n",
      "[[ 9  7 10  6 10  9  7  4  4  9]\n",
      " [ 8 10  7  6  9  4  7  9 10  3]\n",
      " [ 3  6  6  3  7 10  3  4  1  2]\n",
      " [ 7  1  4  7  8 10  3  6  3  6]\n",
      " [ 2  4  4  2  1  5  5  5  4  8]\n",
      " [ 3 10  8  6  8  1  9  5  2  7]\n",
      " [ 8  1  2  9  8  3  9  8  3  1]\n",
      " [ 8  6  2  8  8  3 10  8  8 10]\n",
      " [ 6  8  6  9  8  3  1  8  6  2]\n",
      " [10  6  1  5 10  9  5  2  6  1]]\n"
     ]
    }
   ],
   "source": [
    "print('Each line is now a sentence with its words :')\n",
    "print('')\n",
    "print(convert.to_words(test))"
   ]
  },
  {
   "cell_type": "markdown",
   "metadata": {},
   "source": [
    "### II. Converter Class : Constructing Grid/Plot Function for Quick Analysis"
   ]
  },
  {
   "cell_type": "code",
   "execution_count": 6,
   "metadata": {},
   "outputs": [],
   "source": [
    "def plot_st(truth,model,sentence_stress=None):\n",
    "    \"\"\" \n",
    "    Truth: tuple(strain,stress)\n",
    "    Model: tuple(sentence_converted_strain,sentence_converted_stress)\n",
    "    \n",
    "    \"\"\"\n",
    "    if sentence_stress==None:\n",
    "        plt.rcParams[\"figure.figsize\"] = (16,8)\n",
    "        grid = plt.GridSpec(2, 2, wspace=0.4, hspace=0.3)\n",
    "        plt.subplot(grid[:2,:1])\n",
    "        plt.plot(truth[0],truth[1],color='blue',label='truth')\n",
    "        plt.scatter(model[0],model[1],color='red',label='prediction')\n",
    "        plt.xlabel('$\\epsilon$')\n",
    "        plt.ylabel('$\\sigma$')\n",
    "        plt.legend()\n",
    "        plt.title('Stress Strain Diagram : Sentence Analysis')\n",
    "\n",
    "        x1=range(len(truth[0]))\n",
    "        plt.subplot(grid[0,1])\n",
    "        plt.scatter(x1,abs(truth[0]-model[0]),color='#158fff')\n",
    "        plt.xlabel('$t$')\n",
    "        plt.ylabel('$\\epsilon$')\n",
    "        plt.title('Strain Residuals')\n",
    "\n",
    "        x2=range(len(truth[1]))\n",
    "        plt.subplot(grid[1,1])\n",
    "        plt.scatter(x1,abs(truth[1]-model[1]),color='#158fff')\n",
    "        plt.xlabel('$t$')\n",
    "        plt.ylabel('$\\sigma$')\n",
    "        plt.title('Stress Residuals')\n",
    "        plt.show()\n",
    "    else:\n",
    "        plt.rcParams[\"figure.figsize\"] = (16,8)\n",
    "        grid = plt.GridSpec(3, 2, wspace=0.4, hspace=0.3)\n",
    "        plt.subplot(grid[:2,:1])\n",
    "        plt.plot(truth[0],truth[1],color='blue',label='truth')\n",
    "        plt.scatter(model[0],model[1],color='red',label='prediction')\n",
    "        plt.xlabel('$\\epsilon$')\n",
    "        plt.ylabel('$\\sigma$')\n",
    "        plt.legend()\n",
    "        plt.title('Stress Strain Diagram : Sentence Analysis')\n",
    "\n",
    "        x1=range(len(truth[0]))\n",
    "        plt.subplot(grid[0,1])\n",
    "        plt.scatter(x1,abs(truth[0]-model[0]),color='#158fff')\n",
    "        plt.xlabel('$t$')\n",
    "        plt.ylabel('$\\epsilon$')\n",
    "        plt.title('Strain Residuals')\n",
    "\n",
    "        x2=range(len(truth[1]))\n",
    "        plt.subplot(grid[1,1])\n",
    "        plt.scatter(x1,abs(truth[1]-model[1]),color='#158fff')\n",
    "        plt.xlabel('$t$')\n",
    "        plt.ylabel('$\\sigma$')\n",
    "        plt.title('Stress Residuals')\n",
    "        \n",
    "        # Deserves still a bit of work to perfect this idea\n",
    "        plt.subplot(grid[2,:2])\n",
    "        a=(np.equal(sentence_stress[0],sentence_stress[1])-0.5)*10\n",
    "        data=np.array([a,a])\n",
    "        plt.imshow(data)\n",
    "        plt.title('Stress Prediction')\n",
    "        \n",
    "        plt.show()        "
   ]
  },
  {
   "cell_type": "markdown",
   "metadata": {},
   "source": [
    "#### Example :"
   ]
  },
  {
   "cell_type": "code",
   "execution_count": 7,
   "metadata": {},
   "outputs": [
    {
     "name": "stdout",
     "output_type": "stream",
     "text": [
      "Importing Jupyter notebook from Functions.ipynb\n"
     ]
    }
   ],
   "source": [
    "import nbimporter\n",
    "from Functions import strain_linear,B20_strain_linear, RMA_newton\n",
    "strain_test=B20_strain_linear(20)\n",
    "E = 200000 ; b = 0.001 ; A = 1000 ;a = 0.2 ; rma=RMA_newton(strain_test) ; rma.activate(E,A,b,a)\n",
    "stress_test=rma.stress\n",
    "strain_test=np.array(strain_test)\n",
    "stress_test=np.array(stress_test)"
   ]
  },
  {
   "cell_type": "code",
   "execution_count": 8,
   "metadata": {},
   "outputs": [],
   "source": [
    "# Stress\n",
    "max_stress=int(stress_test.max())+1 ; min_stress=int(stress_test.min())-1 ; size_vocab_stress=15000\n",
    "stress_convert=converter(min_stress,max_stress,size_vocab_stress)\n",
    "# Strain\n",
    "max_strain=0.2 ; min_strain=-0.2 ; size_vocab_strain=15000\n",
    "strain_convert=converter(min_strain,max_strain,size_vocab_strain)"
   ]
  },
  {
   "cell_type": "code",
   "execution_count": 9,
   "metadata": {},
   "outputs": [],
   "source": [
    "strain_converted=strain_convert.to_values(strain_convert.to_words(strain_test))\n",
    "stress_converted=stress_convert.to_values(stress_convert.to_words(stress_test))"
   ]
  },
  {
   "cell_type": "code",
   "execution_count": 11,
   "metadata": {},
   "outputs": [
    {
     "data": {
      "image/png": "[encoded data removed]",
      "text/plain": [
       "<matplotlib.figure.Figure at 0x7f68700a07f0>"
      ]
     },
     "metadata": {},
     "output_type": "display_data"
    }
   ],
   "source": [
    "tru=(strain_test,stress_test) ; mod=(strain_converted,stress_converted)\n",
    "sent=(stress_convert.to_words(stress_test),stress_convert.to_words(stress_test))\n",
    "plot_st(tru,mod)"
   ]
  },
  {
   "cell_type": "code",
   "execution_count": null,
   "metadata": {},
   "outputs": [],
   "source": []
  }
 ],
 "metadata": {
  "kernelspec": {
   "display_name": "Python 3",
   "language": "python",
   "name": "python3"
  },
  "language_info": {
   "codemirror_mode": {
    "name": "ipython",
    "version": 3
   },
   "file_extension": ".py",
   "mimetype": "text/x-python",
   "name": "python",
   "nbconvert_exporter": "python",
   "pygments_lexer": "ipython3",
   "version": "3.6.4"
  }
 },
 "nbformat": 4,
 "nbformat_minor": 2
}
